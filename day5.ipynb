{
 "cells": [
  {
   "cell_type": "code",
   "execution_count": null,
   "metadata": {},
   "outputs": [
    {
     "name": "stderr",
     "output_type": "stream",
     "text": [
      "/var/folders/tv/8v89wklj76j0w32lb_5dfpdc0000gn/T/ipykernel_46485/3757143375.py:23: LangChainDeprecationWarning: Please see the migration guide at: https://python.langchain.com/docs/versions/migrating_memory/\n",
      "  memory = ConversationBufferMemory(\n"
     ]
    }
   ],
   "source": [
    "from langchain_openai import ChatOpenAI\n",
    "from langchain_core.prompts import ChatPromptTemplate\n",
    "from langchain_core.callbacks import StreamingStdOutCallbackHandler\n",
    "from langchain.memory import ConversationBufferMemory\n",
    "from langchain.prompts import MessagesPlaceholder\n",
    "from langchain_community.vectorstores import FAISS\n",
    "from langchain_openai import OpenAIEmbeddings\n",
    "from langchain_text_splitters import CharacterTextSplitter\n",
    "from langchain_community.document_loaders import TextLoader\n",
    "from langchain.schema.runnable import RunnablePassthrough\n",
    "\n",
    "\n",
    "from langchain_community.cache import SQLiteCache\n",
    "import langchain\n",
    "\n",
    "\n",
    "chat = ChatOpenAI(model=\"gpt-4o-mini\", temperature=0.1, streaming=True, callbacks=[StreamingStdOutCallbackHandler()])\n",
    "\n",
    "# 캐시 설정\n",
    "langchain.cache = SQLiteCache(database_path=\"./cache/langchain.db\")\n",
    "\n",
    "\n",
    "memory = ConversationBufferMemory(\n",
    "    llm=chat,\n",
    "    max_token_limit=120,\n",
    "    return_messages=True,\n",
    "    memory_key=\"history\"\n",
    ")\n",
    "splitter = CharacterTextSplitter.from_tiktoken_encoder(\n",
    "    separator=\"\\n\",\n",
    "    chunk_size=600,\n",
    "    chunk_overlap=100,\n",
    ")\n",
    "loader = TextLoader(\"document.txt\")\n",
    "\n",
    "docs = loader.load_and_split(text_splitter=splitter)\n",
    "\n",
    "embeddings = OpenAIEmbeddings()\n",
    "\n",
    "vectorstore = FAISS.from_documents(docs, embeddings)\n",
    "\n",
    "retriver = vectorstore.as_retriever()\n",
    "prompt = ChatPromptTemplate.from_messages(\n",
    "    [\n",
    "        (\n",
    "            \"system\",\n",
    "            \"You are a helpful assistant. Answer questions using only the following context. If you don't know the answer just say you don't know, don't make it up:\\n\\n{context}\",\n",
    "        ),\n",
    "        MessagesPlaceholder(variable_name=\"history\"),\n",
    "        (\"human\", \"{question}\"),\n",
    "    ]\n",
    ")\n",
    "\n",
    "def load_memory(_):\n",
    "    return memory.load_memory_variables({})[\"history\"]\n",
    "\n",
    "\n",
    "chain = RunnablePassthrough.assign(history=load_memory) | prompt | chat\n",
    "\n",
    "def docs_to_context(docs):\n",
    "    return \"\\n\\n\".join(doc.page_content for doc in docs)\n",
    "\n",
    "def ask(question):\n",
    "    docs = retriver.invoke(question)\n",
    "    context = docs_to_context(docs)\n",
    "    result = chain.invoke({\"question\": question, \"context\": context})\n",
    "    memory.save_context({\"input\": question}, {\"output\": result.content})\n",
    "    return result.content\n",
    "\n"
   ]
  },
  {
   "cell_type": "code",
   "execution_count": 2,
   "metadata": {},
   "outputs": [
    {
     "name": "stdout",
     "output_type": "stream",
     "text": [
      "According to Winston, Aaronson is guilty of the crimes he was charged with, but he also acknowledges that he had never seen the photograph that disproved their guilt and that it had never existed; he had invented it. Therefore, it can be inferred that Aaronson is not actually guilty, but the Party claims he is."
     ]
    },
    {
     "data": {
      "text/plain": [
       "'According to Winston, Aaronson is guilty of the crimes he was charged with, but he also acknowledges that he had never seen the photograph that disproved their guilt and that it had never existed; he had invented it. Therefore, it can be inferred that Aaronson is not actually guilty, but the Party claims he is.'"
      ]
     },
     "execution_count": 2,
     "metadata": {},
     "output_type": "execute_result"
    }
   ],
   "source": [
    "ask(\"Is Aaronson guilty?\")\n",
    "\n"
   ]
  },
  {
   "cell_type": "code",
   "execution_count": 4,
   "metadata": {},
   "outputs": [
    {
     "name": "stdout",
     "output_type": "stream",
     "text": [
      "Winston wrote \"FREEDOM IS SLAVERY\" and beneath it \"TWO AND TWO MAKE FIVE.\" He also wrote \"GOD IS POWER.\""
     ]
    },
    {
     "data": {
      "text/plain": [
       "'Winston wrote \"FREEDOM IS SLAVERY\" and beneath it \"TWO AND TWO MAKE FIVE.\" He also wrote \"GOD IS POWER.\"'"
      ]
     },
     "execution_count": 4,
     "metadata": {},
     "output_type": "execute_result"
    }
   ],
   "source": [
    "ask(\"What message did he write in the table?\")\n"
   ]
  },
  {
   "cell_type": "code",
   "execution_count": 5,
   "metadata": {},
   "outputs": [
    {
     "name": "stdout",
     "output_type": "stream",
     "text": [
      "Julia is a character who has a romantic relationship with Winston. She is a fellow Party member who initially appears to conform to the Party's rules but secretly rebels against it. Julia represents a sense of personal freedom and desire in contrast to the oppressive regime of the Party."
     ]
    },
    {
     "data": {
      "text/plain": [
       "\"Julia is a character who has a romantic relationship with Winston. She is a fellow Party member who initially appears to conform to the Party's rules but secretly rebels against it. Julia represents a sense of personal freedom and desire in contrast to the oppressive regime of the Party.\""
      ]
     },
     "execution_count": 5,
     "metadata": {},
     "output_type": "execute_result"
    }
   ],
   "source": [
    "ask(\"Who is Julia?\")"
   ]
  }
 ],
 "metadata": {
  "kernelspec": {
   "display_name": "env",
   "language": "python",
   "name": "python3"
  },
  "language_info": {
   "codemirror_mode": {
    "name": "ipython",
    "version": 3
   },
   "file_extension": ".py",
   "mimetype": "text/x-python",
   "name": "python",
   "nbconvert_exporter": "python",
   "pygments_lexer": "ipython3",
   "version": "3.11.3"
  }
 },
 "nbformat": 4,
 "nbformat_minor": 2
}

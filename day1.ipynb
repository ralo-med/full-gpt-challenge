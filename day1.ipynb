{
 "cells": [
  {
   "cell_type": "code",
   "execution_count": 2,
   "metadata": {},
   "outputs": [
    {
     "name": "stdout",
     "output_type": "stream",
     "text": [
      "Elegant and sleek,\n",
      "Python slithers through code lines,\n",
      "Guiding with its grace.Sure! Let's break down this haiku into its three lines:\n",
      "\n",
      "1. \"Elegant and sleek,\" - This line describes the Python programming language as elegant and sleek, suggesting that it is refined and stylish in its design and functionality.\n",
      "\n",
      "2. \"Python slithers through code lines,\" - Here, the haiku uses a metaphor comparing Python to a snake (\"Python\") that moves smoothly and effortlessly through lines of code. This line conveys the idea that Python is a versatile and efficient language for writing and executing code.\n",
      "\n",
      "3. \"Guiding with its grace.\" - The final line suggests that Python guides and directs the process of coding with a sense of grace and ease. It implies that using Python can make the coding experience more pleasant and intuitive.\n",
      "\n",
      "Overall, this haiku celebrates the elegance, efficiency, and user-friendly nature of the Python programming language."
     ]
    },
    {
     "data": {
      "text/plain": [
       "AIMessage(content='Sure! Let\\'s break down this haiku into its three lines:\\n\\n1. \"Elegant and sleek,\" - This line describes the Python programming language as elegant and sleek, suggesting that it is refined and stylish in its design and functionality.\\n\\n2. \"Python slithers through code lines,\" - Here, the haiku uses a metaphor comparing Python to a snake (\"Python\") that moves smoothly and effortlessly through lines of code. This line conveys the idea that Python is a versatile and efficient language for writing and executing code.\\n\\n3. \"Guiding with its grace.\" - The final line suggests that Python guides and directs the process of coding with a sense of grace and ease. It implies that using Python can make the coding experience more pleasant and intuitive.\\n\\nOverall, this haiku celebrates the elegance, efficiency, and user-friendly nature of the Python programming language.', additional_kwargs={}, response_metadata={'finish_reason': 'stop'}, id='run--35110f7c-a707-4b66-9f82-8c8a8ebd8eab-0')"
      ]
     },
     "execution_count": 2,
     "metadata": {},
     "output_type": "execute_result"
    }
   ],
   "source": [
    "\n",
    "from langchain.chat_models import ChatOpenAI\n",
    "from langchain.prompts import ChatPromptTemplate\n",
    "from langchain.callbacks import StreamingStdOutCallbackHandler\n",
    "\n",
    "\n",
    "chat = ChatOpenAI(model=\"gpt-3.5-turbo\", temperature=0.1, streaming=True, callbacks=[StreamingStdOutCallbackHandler()])\n",
    "\n",
    "writing_haiku_template = ChatPromptTemplate.from_messages([\n",
    "    (\"system\",\"You are a world class Haiku writer. You are specialized in writing Haikus about programming languages. Haiku mush be beutiful, rhyme and a good rhythm.\"),\n",
    "    (\"human\",\"{programming_language}\"),\n",
    "])\n",
    "\n",
    "explaining_haiku_template = ChatPromptTemplate.from_messages([\n",
    "    (\"system\",\"You are a world class Haiku explainer. You are specialized in explaining Haikus. You explain the haiku in a way that is easy to understand for each lines.\"),\n",
    "    (\"human\",\"{haiku}\"),\n",
    "])\n",
    "\n",
    "haiku_chain = writing_haiku_template | chat\n",
    "explanation_chain = explaining_haiku_template | chat\n",
    "final_chain = {\"haiku\":haiku_chain}|explanation_chain\n",
    "\n",
    "final_chain.invoke({\"programming_language\":\"Python\"})\n",
    "\n",
    "\n",
    "\n"
   ]
  }
 ],
 "metadata": {
  "kernelspec": {
   "display_name": "env",
   "language": "python",
   "name": "python3"
  },
  "language_info": {
   "codemirror_mode": {
    "name": "ipython",
    "version": 3
   },
   "file_extension": ".py",
   "mimetype": "text/x-python",
   "name": "python",
   "nbconvert_exporter": "python",
   "pygments_lexer": "ipython3",
   "version": "3.11.3"
  }
 },
 "nbformat": 4,
 "nbformat_minor": 2
}

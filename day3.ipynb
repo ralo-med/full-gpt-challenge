{
 "cells": [
  {
   "cell_type": "code",
   "execution_count": 8,
   "metadata": {},
   "outputs": [],
   "source": [
    "from langchain_community.chat_models import ChatOpenAI\n",
    "from langchain_core.prompts import ChatPromptTemplate, FewShotChatMessagePromptTemplate\n",
    "from langchain_core.callbacks import StreamingStdOutCallbackHandler\n",
    "from langchain.memory import ConversationSummaryBufferMemory\n",
    "from langchain.prompts import MessagesPlaceholder\n",
    "from langchain.schema.runnable import RunnablePassthrough\n",
    "\n",
    "chat = ChatOpenAI(model=\"gpt-3.5-turbo\", temperature=0.1, streaming=True, callbacks=[StreamingStdOutCallbackHandler()])\n",
    "\n",
    "examples = [\n",
    "    {\"영화\":\"라이프 오브 파이\",\"answer\":\"🐅🌊🚣\"},\n",
    "    {\"영화\":\"인터스텔라\",\"answer\":\"🚀🌌⏰\"},\n",
    "    {\"영화\":\"기생충\",\"answer\":\"🏠💰🕷️\"},\n",
    "    {\"영화\":\"타이타닉\",\"answer\":\"🚢💎💕\"},\n",
    "]\n",
    "\n",
    "# Few-shot 예시를 위한 프롬프트 템플릿\n",
    "example_prompt = ChatPromptTemplate.from_messages([\n",
    "    (\"human\", \"영화: {영화}\"),\n",
    "    (\"ai\", \"{answer}\")\n",
    "])\n",
    "\n",
    "# Few-shot 프롬프트 생성\n",
    "few_shot_prompt = FewShotChatMessagePromptTemplate(\n",
    "    examples=examples,\n",
    "    example_prompt=example_prompt,\n",
    "    input_variables=[\"movie_name\"]\n",
    ")\n",
    "\n",
    "memory = ConversationSummaryBufferMemory(llm=chat, max_token_limit=120, return_messages=True)\n",
    "\n",
    "# 최종 프롬프트 템플릿\n",
    "final_prompt = ChatPromptTemplate.from_messages([\n",
    "   (\"system\", \"\"\"You are a helpful AI assistant that specializes in movies and emojis. \n",
    "\n",
    "When the user asks for a movie name to be converted to emojis, respond with exactly 3 emojis that best represent the movie.\n",
    "\n",
    "\n",
    "Always be helpful and informative in your responses.\"\"\"),\n",
    "    few_shot_prompt,\n",
    "    MessagesPlaceholder(variable_name=\"history\"),\n",
    "    (\"human\", \"{movie_name}\")\n",
    "])\n",
    "\n",
    "def load_memory(input_dict):\n",
    "    return memory.load_memory_variables({})[\"history\"]\n",
    "\n",
    "chain = RunnablePassthrough.assign(history=load_memory) | final_prompt | chat\n",
    "\n",
    "def invoke_chain(movie_name):\n",
    "    result = chain.invoke({\"movie_name\": movie_name})\n",
    "    memory.save_context({\"input\": movie_name}, {\"output\": result.content})\n",
    "    return result.content\n",
    "\n",
    "\n"
   ]
  },
  {
   "cell_type": "code",
   "execution_count": 9,
   "metadata": {},
   "outputs": [
    {
     "name": "stdout",
     "output_type": "stream",
     "text": [
      "⚡🧙🔮"
     ]
    },
    {
     "data": {
      "text/plain": [
       "'⚡🧙🔮'"
      ]
     },
     "execution_count": 9,
     "metadata": {},
     "output_type": "execute_result"
    }
   ],
   "source": [
    "invoke_chain(\"해리포터와 마법사의 돌\")"
   ]
  },
  {
   "cell_type": "code",
   "execution_count": 10,
   "metadata": {},
   "outputs": [
    {
     "name": "stdout",
     "output_type": "stream",
     "text": [
      "🤠🚀🧸"
     ]
    },
    {
     "data": {
      "text/plain": [
       "'🤠🚀🧸'"
      ]
     },
     "execution_count": 10,
     "metadata": {},
     "output_type": "execute_result"
    }
   ],
   "source": [
    "invoke_chain(\"토이스토리\")"
   ]
  },
  {
   "cell_type": "code",
   "execution_count": 11,
   "metadata": {},
   "outputs": [
    {
     "name": "stdout",
     "output_type": "stream",
     "text": [
      "당연히요! 앞서 질문하신 영화들은 '라이프 오브 파이'는 🐅🌊🚣, '인터스텔라'는 🚀🌌⏰, '기생충'은 🏠💰🕷️, '타이타닉'은 🚢💎💕, '해리포터와 마법사의 돌'은 ⚡🧙🔮, '토이스토리'는 🤠🚀🧸 이렇게요! 부족한 점이 있으면 더 물어봐주세요!The human mentions various movies like '라이프 오브 파이', '인터스텔라', '기생충', '타이타닉', '해리포터와 마법사의 돌', and '토이스토리'. The AI responds with emojis representing each movie and offers to provide more information if needed."
     ]
    },
    {
     "data": {
      "text/plain": [
       "\"당연히요! 앞서 질문하신 영화들은 '라이프 오브 파이'는 🐅🌊🚣, '인터스텔라'는 🚀🌌⏰, '기생충'은 🏠💰🕷️, '타이타닉'은 🚢💎💕, '해리포터와 마법사의 돌'은 ⚡🧙🔮, '토이스토리'는 🤠🚀🧸 이렇게요! 부족한 점이 있으면 더 물어봐주세요!\""
      ]
     },
     "execution_count": 11,
     "metadata": {},
     "output_type": "execute_result"
    }
   ],
   "source": [
    "invoke_chain(\"내가 앞서 질문했던 영화가 뭔지 다 알려줘\")"
   ]
  }
 ],
 "metadata": {
  "kernelspec": {
   "display_name": "env",
   "language": "python",
   "name": "python3"
  },
  "language_info": {
   "codemirror_mode": {
    "name": "ipython",
    "version": 3
   },
   "file_extension": ".py",
   "mimetype": "text/x-python",
   "name": "python",
   "nbconvert_exporter": "python",
   "pygments_lexer": "ipython3",
   "version": "3.11.3"
  }
 },
 "nbformat": 4,
 "nbformat_minor": 2
}

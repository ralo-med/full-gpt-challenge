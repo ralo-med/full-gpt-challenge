{
 "cells": [
  {
   "cell_type": "code",
   "execution_count": 8,
   "metadata": {},
   "outputs": [
    {
     "name": "stdout",
     "output_type": "stream",
     "text": [
      "MOVIE INFO :\n",
      "감독: 크리스 콜럼버스\n",
      "주요출연진: 다니엘 래드클리프, 엠마 왓슨, 루퍼트 그린트\n",
      "예산: 약 1250만 달러\n",
      "흥행수익: 약 9억 달러\n",
      "장르: 판타지, 모험, 가족\n",
      "간략한 줄거리: 마법사 세계에 입문한 소년 해리 포터가 마법사의 돌을 찾기 위한 모험을 떠나며, 어둠의 마법사 볼드모트의 위협에 맞서 싸우는 이야기를 그린다."
     ]
    }
   ],
   "source": [
    "from langchain_community.chat_models import ChatOpenAI\n",
    "from langchain_core.prompts import ChatPromptTemplate, FewShotChatMessagePromptTemplate\n",
    "from langchain_core.callbacks import StreamingStdOutCallbackHandler\n",
    "\n",
    "chat = ChatOpenAI(model=\"gpt-4.1-nano\", temperature=0.1, streaming=True, callbacks=[StreamingStdOutCallbackHandler()])\n",
    "\n",
    "examples = [\n",
    "    {\"영화\":\"라이프 오브 파이\",\"answer\":\"\"\"MOVIE INFO :\n",
    "감독: 앙 리\n",
    "주요출연진: 수라즈 샤르마, 이르판 칸, 탭우, 아딜 후세인\n",
    "예산: 1.2억 달러\n",
    "흥행수익: 6.09억 달러\n",
    "장르: 모험, 드라마, 판타지\n",
    "간략한 줄거리: 인도 소년 파이가 가족과 함께 캐나다로 이민가는 배에서 조난을 당해 작은 보트에 타이거와 함께 표류하게 되고, 227일간의 생존 여정을 그린다.\"\"\"},\n",
    "    {\"영화\":\"인터스텔라\",\"answer\":\"\"\"MOVIE INFO :\n",
    "감독: 크리스토퍼 놀란\n",
    "주요출연진: 매튜 맥커너히, 앤 해서웨이, 제시카 차스테인\n",
    "예산: 1.65억 달러\n",
    "흥행수익: 7.01억 달러\n",
    "장르: SF, 드라마, 모험\n",
    "간략한 줄거리: 지구가 멸망 위기에 처한 미래, 우주 탐사대가 새로운 거주 가능한 행성을 찾기 위해 블랙홀을 통과하는 여정을 그린다.\"\"\"},\n",
    "    {\"영화\":\"기생충\",\"answer\":\"\"\"MOVIE INFO :\n",
    "감독: 봉준호\n",
    "주요출연진: 송강호, 이선균, 조여정, 최우식\n",
    "예산: 1140만 달러\n",
    "흥행수익: 2.58억 달러\n",
    "장르: 드라마, 스릴러, 코미디\n",
    "간략한 줄거리: 반지하에 사는 가난한 기택네 가족이 부유한 박사네 집에 침투하여 일자리를 얻지만, 예상치 못한 상황들이 벌어지며 계급 간의 갈등이 폭발한다.\"\"\"},\n",
    "]\n",
    "\n",
    "\n",
    "example_prompt = ChatPromptTemplate.from_messages([\n",
    "    (\"human\", \"영화: {영화}\"),\n",
    "    (\"ai\", \"{answer}\")\n",
    "])\n",
    "\n",
    "\n",
    "few_shot_prompt = FewShotChatMessagePromptTemplate(\n",
    "    examples=examples,\n",
    "    example_prompt=example_prompt,\n",
    ")\n",
    "\n",
    "# 최종 프롬프트 템플릿\n",
    "final_prompt = ChatPromptTemplate.from_messages([\n",
    "    (\"system\", \"You are a world class movie info extractor. Based on the examples below, extract movie information for the given movie name in the same format.\"),\n",
    "    few_shot_prompt,\n",
    "    (\"human\", \"영화: {movie_name}\")\n",
    "])\n",
    "\n",
    "chain = final_prompt | chat\n",
    "\n",
    "result = chain.invoke({\"movie_name\":\"해리포터와 마법사의 돌\"})\n",
    "\n"
   ]
  },
  {
   "cell_type": "code",
   "execution_count": null,
   "metadata": {},
   "outputs": [],
   "source": []
  },
  {
   "cell_type": "code",
   "execution_count": null,
   "metadata": {},
   "outputs": [],
   "source": []
  }
 ],
 "metadata": {
  "kernelspec": {
   "display_name": "env",
   "language": "python",
   "name": "python3"
  },
  "language_info": {
   "codemirror_mode": {
    "name": "ipython",
    "version": 3
   },
   "file_extension": ".py",
   "mimetype": "text/x-python",
   "name": "python",
   "nbconvert_exporter": "python",
   "pygments_lexer": "ipython3",
   "version": "3.11.3"
  }
 },
 "nbformat": 4,
 "nbformat_minor": 2
}
